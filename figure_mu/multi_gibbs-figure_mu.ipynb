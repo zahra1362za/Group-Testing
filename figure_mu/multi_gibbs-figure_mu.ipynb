{
 "cells": [
  {
   "cell_type": "code",
   "execution_count": 1,
   "metadata": {},
   "outputs": [],
   "source": [
    "import multiprocessing\n",
    "from multiprocessing import Pool\n",
    "from functools import partial\n",
    "import numpy as np\n",
    "import matplotlib.pyplot as plt\n",
    "import os\n",
    "import random\n",
    "import matplotlib.pyplot as plt\n",
    "from scipy import spatial\n",
    "from scipy.stats import beta\n",
    "from sklearn import svm, datasets\n",
    "from sklearn.metrics import roc_curve, auc\n",
    "from sklearn.metrics import roc_auc_score"
   ]
  },
  {
   "cell_type": "code",
   "execution_count": 4,
   "metadata": {},
   "outputs": [],
   "source": [
    "a_alpha=1\n",
    "b_alpha=400\n",
    "a_beta=1\n",
    "b_beta=800\n",
    "a_betaf=3.5\n",
    "b_betaf=800\n",
    "a_gama=50\n",
    "b_gama=200\n",
    "a_teta0=10\n",
    "b_teta0=1000\n",
    "a_teta1=9000\n",
    "b_teta1=300\n",
    "P=1\n",
    "U=2\n",
    "K=2\n",
    "J=1\n",
    "n,T=100,360\n",
    "epsln=0.001\n",
    "hyper_params=np.array([a_alpha,b_alpha,a_beta,b_beta,a_betaf,b_betaf,a_gama,b_gama,a_teta0,b_teta0,a_teta1,b_teta1])"
   ]
  },
  {
   "cell_type": "code",
   "execution_count": 5,
   "metadata": {},
   "outputs": [],
   "source": [
    "def Sample_alpha(a_alpha, b_alpha):\n",
    "    for i in beta.rvs(a_alpha, b_alpha, size=10000):\n",
    "        if (i>0.001)&(i<0.00501):\n",
    "            alpha_=round(i,3)\n",
    "            return alpha_ \n",
    "    if not(i>0.001):\n",
    "        return -1.0\n",
    "    else:\n",
    "        return -2.0\n",
    "    \n",
    "def Sample_beta(a_beta, b_beta):\n",
    "    for i in beta.rvs(a_beta, b_beta, size=10000):\n",
    "        if (i>0.001)&(i<0.00501):\n",
    "            beta_=round(i,4)\n",
    "            return beta_ \n",
    "    if not(i>0.001):\n",
    "        return -1.0\n",
    "    else:\n",
    "        return -2.0                \n",
    "\n",
    "def Sample_betaf(a_betaf, b_betaf):\n",
    "    for i in beta.rvs(a_betaf, b_betaf, size=1000):\n",
    "        if (i>0.002)&(i<0.00501):\n",
    "            betaf=round(i,4)\n",
    "            return betaf\n",
    "    if not(i>0.002):\n",
    "        return -1.0\n",
    "    else:\n",
    "        return -2.0\n",
    "def Sample_gama(a_gama,b_gama):\n",
    "    for i in beta.rvs(a_gama, b_gama, size=10000):\n",
    "        if (i>0.1)&(i<0.5):\n",
    "            gama_=round(i,3)\n",
    "            return gama_  \n",
    "    if not(i>0.07):\n",
    "        return -1.0\n",
    "    else:\n",
    "        return -2.0           \n",
    "\n",
    "def Sample_theta0(a_teta0, b_teta0):\n",
    "    for i in beta.rvs(a_teta0, b_teta0, size=10000):\n",
    "        if (i>0.01)&(i<0.03):\n",
    "            theta_0_=round(i,3)\n",
    "            return theta_0_  \n",
    "    if not(i>0.01):\n",
    "        return -1.0\n",
    "    else:\n",
    "        return -2.0  \n",
    "\n",
    "def Sample_theta1(a_teta1, b_teta1):\n",
    "    for i in beta.rvs(a_teta1, b_teta1, size=10000):\n",
    "        if i>0.799:\n",
    "            theta_1_=round(i,3)\n",
    "            return theta_1_ \n",
    "    if not(i>0.78):\n",
    "        return -1\n",
    "\n",
    "    \n",
    "# function to sample infection and emission parameters(alpha,beta,betaf,gama,teta0,teta1)\n",
    "def initialize_parameters(hyper_params):\n",
    "    a_alpha=hyper_params[0]\n",
    "    b_alpha=hyper_params[1]\n",
    "    a_beta=hyper_params[2]\n",
    "    b_beta=hyper_params[3]\n",
    "    a_betaf=hyper_params[4]\n",
    "    b_betaf=hyper_params[5]\n",
    "    a_gama=hyper_params[6]\n",
    "    b_gama=hyper_params[7]\n",
    "    a_teta0=hyper_params[8]\n",
    "    b_teta0=hyper_params[9]\n",
    "    a_teta1=hyper_params[10]\n",
    "    b_teta1=hyper_params[11]\n",
    "\n",
    "    alpha_=Sample_alpha(a_alpha, b_alpha)\n",
    "    while alpha_==-1:\n",
    "        a_alpha=a_alpha+5\n",
    "        hyper_params[0]=a_alpha\n",
    "        alpha_=Sample_alpha(a_alpha, b_alpha)\n",
    "    while alpha_==-2:\n",
    "        b_alpha=b_alpha+500\n",
    "        hyper_params[1]=b_alpha\n",
    "        alpha_=Sample_alpha(a_alpha, b_alpha)\n",
    "    beta_=Sample_beta(a_beta, b_beta)\n",
    "    while beta_==-1:\n",
    "        a_beta=a_beta+5\n",
    "        hyper_params[2]=a_beta\n",
    "        beta_=Sample_beta(a_beta, b_beta)\n",
    "    while beta_==-2:\n",
    "        b_beta=b_beta+500\n",
    "        hyper_params[3]=b_beta\n",
    "        beta_=Sample_beta(a_beta, b_beta)    \n",
    "    betaf=Sample_betaf(a_betaf, b_betaf)\n",
    "    while alpha_>beta_:\n",
    "        alpha_=Sample_alpha(a_alpha, b_alpha)\n",
    "        beta_=Sample_beta(a_beta, b_beta)\n",
    "    while beta_>betaf:\n",
    "        betaf=Sample_betaf(a_betaf, b_betaf)\n",
    "    gama_=Sample_gama(a_gama,b_gama)\n",
    "    theta_0_=Sample_theta0(a_teta0, b_teta0)\n",
    "    while theta_0_==-1:\n",
    "        a_teta0=a_teta0+5\n",
    "        hyper_params[8]=a_teta0\n",
    "        theta_0_=Sample_theta0(a_teta0, b_teta0)\n",
    "    while theta_0_==-2:\n",
    "        b_teta0=b_teta0+500\n",
    "        hyper_params[9]=b_teta0\n",
    "        theta_0_=Sample_theta0(a_teta0, b_teta0)       \n",
    "    theta_1_=Sample_theta1(a_teta1, b_teta1)\n",
    "    while theta_1_==-1:\n",
    "        a_teta1=a_teta1+5\n",
    "        hyper_params[8]=a_teta1\n",
    "        theta_1_=Sample_theta1(a_teta0, b_teta0)\n",
    "   \n",
    "    params=np.array([alpha_,beta_,betaf,gama_,theta_0_,theta_1_])\n",
    "    return params\n"
   ]
  },
  {
   "cell_type": "code",
   "execution_count": 6,
   "metadata": {},
   "outputs": [],
   "source": [
    "def CNbr(G,X):\n",
    "    n,T=X.shape[0],X.shape[1]\n",
    "    C=np.zeros((T,n))\n",
    "    for t in range(T):\n",
    "        C[t]=G[t].dot(X.T[t])\n",
    "    return C.T"
   ]
  },
  {
   "cell_type": "code",
   "execution_count": 7,
   "metadata": {},
   "outputs": [
    {
     "data": {
      "text/plain": [
       "array([0.001 , 0.0014, 0.0038, 0.178 , 0.016 , 0.968 ])"
      ]
     },
     "execution_count": 7,
     "metadata": {},
     "output_type": "execute_result"
    }
   ],
   "source": [
    "params=initialize_parameters(hyper_params)\n",
    "params"
   ]
  },
  {
   "cell_type": "code",
   "execution_count": 8,
   "metadata": {},
   "outputs": [],
   "source": [
    "# Generate synthetic data,G ,Y:\n",
    "n,T,y=100,360,5\n",
    "U,K=2,2\n",
    "P=1\n",
    "number_families=15\n",
    "#synthetic_data0=Synthetic_Data(n,T,y,params,number_families)\n",
    "#%store synthetic_data0"
   ]
  },
  {
   "cell_type": "code",
   "execution_count": 9,
   "metadata": {},
   "outputs": [
    {
     "data": {
      "text/plain": [
       "2"
      ]
     },
     "execution_count": 9,
     "metadata": {},
     "output_type": "execute_result"
    }
   ],
   "source": [
    "m=[1,2,3,4,5,6,12,52,360]\n",
    "for i in np.random.poisson(m[0], 10000):\n",
    "    if i>0:\n",
    "        mu=i\n",
    "        break\n",
    "mu        "
   ]
  },
  {
   "cell_type": "code",
   "execution_count": 10,
   "metadata": {},
   "outputs": [],
   "source": [
    "# function to generate missing data:\n",
    "# mu is the average number of tests for a typical family during a year:\n",
    "m=[1,2,3,4,5,6,12,52]\n",
    "def missing_data(m,YF):\n",
    "    number_of_families,T=YF.shape[0],YF.shape[1]\n",
    "    YF_missing=np.zeros((number_of_families,T))-1\n",
    "    time=list(range(T))\n",
    "    random.shuffle(time)\n",
    "    for f in range(number_of_families):\n",
    "        for i in np.random.poisson(m, 10000):\n",
    "            if i>0:\n",
    "                mu=i\n",
    "                break\n",
    "        idx=np.sort(np.random.choice(time, mu,replace=False))\n",
    "        for t in idx:\n",
    "            YF_missing[f,t]=YF[f,t]\n",
    "        \n",
    "    return YF_missing "
   ]
  },
  {
   "cell_type": "code",
   "execution_count": 11,
   "metadata": {},
   "outputs": [],
   "source": [
    "import os\n",
    "G=np.load('G.npy')\n",
    "YF=np.load('YF.npy')\n",
    "X=np.load(\"X.npy\")\n",
    "F=np.load('F.npy')"
   ]
  },
  {
   "cell_type": "code",
   "execution_count": 13,
   "metadata": {},
   "outputs": [],
   "source": [
    "import Code_mu\n",
    "data_inputs=[hyper_params,hyper_params,hyper_params,hyper_params,hyper_params,hyper_params,hyper_params,hyper_params]\n",
    "\n",
    "if __name__ == '__main__':\n",
    "    pool = Pool(8)                         # Create a multiprocessing Pool\n",
    "    pool_list=pool.map(Code_mu.process, data_inputs)"
   ]
  },
  {
   "cell_type": "code",
   "execution_count": 14,
   "metadata": {},
   "outputs": [],
   "source": [
    "l=[]\n",
    "for i in range(8):\n",
    "    l.append([pool_list[i][0],pool_list[i][1],missing_data(m[i],YF)])"
   ]
  },
  {
   "cell_type": "code",
   "execution_count": null,
   "metadata": {},
   "outputs": [],
   "source": [
    "import workers_mu\n",
    "if __name__ ==  '__main__': \n",
    "    with Pool(processes =8) as pool:\n",
    "\n",
    "        parallel_output = pool.starmap(workers_mu.algrthm,l )# use tqdm to show the progress\n",
    "        pool.close()\n",
    "        pool.join()\n"
   ]
  },
  {
   "cell_type": "code",
   "execution_count": null,
   "metadata": {},
   "outputs": [],
   "source": [
    "def plot_ROC(y_score,y_test,i):\n",
    "    plt.figure()\n",
    "    lw = 2\n",
    "    y_score=np.hstack(y_score)\n",
    "    y_test=np.hstack(y_test)\n",
    "    fpr, tpr, thresholds = roc_curve(y_test, y_score,pos_label=1)\n",
    "    roc_auc = auc(fpr, tpr)\n",
    "    plt.plot(\n",
    "        fpr,\n",
    "        tpr,\n",
    "        color=\"darkorange\",\n",
    "        lw=lw,\n",
    "        label=\"ROC curve (area = %0.2f)\" % roc_auc,\n",
    "    )\n",
    "    plt.plot([0, 1], [0, 1], color=\"navy\", lw=lw, linestyle=\"--\")\n",
    "    plt.xlim([0.0, 1.0])\n",
    "    plt.ylim([0.0, 1.05])\n",
    "    plt.xlabel(\"False Positive Rate\")\n",
    "    plt.ylabel(\"True Positive Rate\")\n",
    "    plt.title(\"ROC for family test result problem\")\n",
    "    plt.legend(loc=\"lower right\")\n",
    "    plt.savefig(str(i)+\".pdf\")\n",
    "    plt.show()\n",
    "    return roc_auc\n",
    "\n",
    "unique_rows = np.unique(F, axis=0)"
   ]
  },
  {
   "cell_type": "code",
   "execution_count": null,
   "metadata": {},
   "outputs": [],
   "source": [
    "# plot figure 1 for different values of missing data:\n",
    "cnt=0\n",
    "for i in parallel_output:\n",
    "    plot_ROC(X,i,cnt)\n",
    "    cnt=cnt+1"
   ]
  }
 ],
 "metadata": {
  "kernelspec": {
   "display_name": "Python 3",
   "language": "python",
   "name": "python3"
  },
  "language_info": {
   "codemirror_mode": {
    "name": "ipython",
    "version": 3
   },
   "file_extension": ".py",
   "mimetype": "text/x-python",
   "name": "python",
   "nbconvert_exporter": "python",
   "pygments_lexer": "ipython3",
   "version": "3.8.5"
  }
 },
 "nbformat": 4,
 "nbformat_minor": 4
}
